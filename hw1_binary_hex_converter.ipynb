{
 "cells": [
  {
   "cell_type": "code",
   "execution_count": 19,
   "id": "b3b20f63",
   "metadata": {
    "scrolled": false
   },
   "outputs": [
    {
     "name": "stdout",
     "output_type": "stream",
     "text": [
      "請輸入數字:17\n"
     ]
    }
   ],
   "source": [
    "test_number=input(\"請輸入數字:\")"
   ]
  },
  {
   "cell_type": "code",
   "execution_count": 20,
   "id": "76effbcc",
   "metadata": {},
   "outputs": [
    {
     "data": {
      "text/plain": [
       "17"
      ]
     },
     "execution_count": 20,
     "metadata": {},
     "output_type": "execute_result"
    }
   ],
   "source": [
    "int(test_number)"
   ]
  },
  {
   "cell_type": "code",
   "execution_count": 48,
   "id": "9aba56ee",
   "metadata": {
    "scrolled": false
   },
   "outputs": [
    {
     "name": "stdout",
     "output_type": "stream",
     "text": [
      "126\n"
     ]
    }
   ],
   "source": [
    "\n",
    "if test_number >= '2**7':\n",
    "    cha1 = '1'\n",
    "    number1 = int(test_number) - 128\n",
    "else :\n",
    "    cha1 = '0'\n",
    "    number1 = test_number\n"
   ]
  },
  {
   "cell_type": "code",
   "execution_count": 49,
   "id": "8d7c89ec",
   "metadata": {},
   "outputs": [
    {
     "name": "stdout",
     "output_type": "stream",
     "text": [
      "62\n"
     ]
    }
   ],
   "source": [
    "int(number1)\n",
    "if number1 >= 2**6:\n",
    "    cha2 = '1'\n",
    "    number2 = int(number1) - 64\n",
    "else :\n",
    "    cha2 = '0'\n",
    "    number2 = number1\n"
   ]
  },
  {
   "cell_type": "code",
   "execution_count": 41,
   "id": "22843af1",
   "metadata": {},
   "outputs": [
    {
     "name": "stdout",
     "output_type": "stream",
     "text": [
      "30\n"
     ]
    }
   ],
   "source": [
    "int(number2)\n",
    "if number2 >= 2**5:\n",
    "    cha3 = '1'\n",
    "    number3 = int(number2) - 32\n",
    "else :\n",
    "    cha3 = '0'\n",
    "    number3 = number2\n"
   ]
  },
  {
   "cell_type": "code",
   "execution_count": 42,
   "id": "bd7d9af8",
   "metadata": {},
   "outputs": [
    {
     "name": "stdout",
     "output_type": "stream",
     "text": [
      "14\n"
     ]
    }
   ],
   "source": [
    "int(number3)\n",
    "if number3 >= 2**4:\n",
    "    cha4 = '1'\n",
    "    number4 = int(number3) - 16\n",
    "else :\n",
    "    cha4 = '0'\n",
    "    number4 = number3\n"
   ]
  },
  {
   "cell_type": "code",
   "execution_count": 43,
   "id": "851f8d46",
   "metadata": {},
   "outputs": [
    {
     "name": "stdout",
     "output_type": "stream",
     "text": [
      "6\n"
     ]
    }
   ],
   "source": [
    "int(number4)\n",
    "if number4 >= 2**3:\n",
    "    cha5 = '1'\n",
    "    number5 = int(number4) - 8\n",
    "else :\n",
    "    cha5 = '0'\n",
    "    number5 = number4\n"
   ]
  },
  {
   "cell_type": "code",
   "execution_count": 44,
   "id": "832f4081",
   "metadata": {},
   "outputs": [
    {
     "name": "stdout",
     "output_type": "stream",
     "text": [
      "2\n"
     ]
    }
   ],
   "source": [
    "int(number5)\n",
    "if number5 >= 2**2:\n",
    "    cha6 = '1'\n",
    "    number6 = int(number5) - 4\n",
    "else :\n",
    "    cha6 = '0'\n",
    "    number6 = number5\n"
   ]
  },
  {
   "cell_type": "code",
   "execution_count": 45,
   "id": "b9652e75",
   "metadata": {},
   "outputs": [
    {
     "name": "stdout",
     "output_type": "stream",
     "text": [
      "0\n"
     ]
    }
   ],
   "source": [
    "int(number6)\n",
    "if number6 >= 2**1:\n",
    "    cha7 = '1'\n",
    "    cha8 = int(number6) - 2\n",
    "else :\n",
    "    cha7 = '0'\n",
    "    cha8 = int(number6) - 2\n"
   ]
  },
  {
   "cell_type": "code",
   "execution_count": 21,
   "id": "a3585ad2",
   "metadata": {},
   "outputs": [],
   "source": [
    "\n",
    "if test_number >= '16**1':\n",
    "    O16cha1 = int(test_number) // 16**1\n",
    "    number161 = int(test_number) - 16*O16cha1\n",
    "else :\n",
    "    O16cha1 = '0'\n",
    "    number161 = test_number\n",
    "\n",
    "int(O16cha1)\n",
    "if O16cha1 < 10:\n",
    "    chan1 = O16cha1\n",
    "elif O16cha1==10:\n",
    "    chan1 = 'A'\n",
    "elif O16cha1==11:\n",
    "    chan1 = 'B'\n",
    "elif O16cha1==12:\n",
    "    chan1 = 'C'\n",
    "elif O16cha1==13:\n",
    "    chan1 = 'D'\n",
    "elif O16cha1==14:\n",
    "    chan1 = 'E'\n",
    "elif O16cha1==15:\n",
    "    chan1 = 'F'\n",
    "    "
   ]
  },
  {
   "cell_type": "code",
   "execution_count": 22,
   "id": "282d53df",
   "metadata": {
    "scrolled": true
   },
   "outputs": [],
   "source": [
    "\n",
    "int(number161)\n",
    "if number161 < 10:\n",
    "    chan2 = number161\n",
    "elif number161==10:\n",
    "    chan2 = 'A'\n",
    "elif number161==11:\n",
    "    chan2 = 'B'\n",
    "elif number161==12:\n",
    "    chan2 = 'C'\n",
    "elif number161==13:\n",
    "    chan2 = 'D'\n",
    "elif number161==14:\n",
    "    chan2 = 'E'\n",
    "elif number161==15:\n",
    "    chan2 = 'F'"
   ]
  },
  {
   "cell_type": "code",
   "execution_count": null,
   "id": "7b127d5a",
   "metadata": {},
   "outputs": [],
   "source": [
    "print(\"二進位表示:\"+str(cha1)+str(cha2)+str(cha3)+str(cha4)+str(cha5)+str(cha6)+str(cha7)+str(cha8))"
   ]
  },
  {
   "cell_type": "code",
   "execution_count": 23,
   "id": "c7527202",
   "metadata": {
    "scrolled": true
   },
   "outputs": [
    {
     "name": "stdout",
     "output_type": "stream",
     "text": [
      "16進位表示:11\n"
     ]
    }
   ],
   "source": [
    "print(\"16進位表示:\"+str(chan1)+str(chan2))"
   ]
  }
 ],
 "metadata": {
  "kernelspec": {
   "display_name": "Python 3 (ipykernel)",
   "language": "python",
   "name": "python3"
  },
  "language_info": {
   "codemirror_mode": {
    "name": "ipython",
    "version": 3
   },
   "file_extension": ".py",
   "mimetype": "text/x-python",
   "name": "python",
   "nbconvert_exporter": "python",
   "pygments_lexer": "ipython3",
   "version": "3.9.12"
  }
 },
 "nbformat": 4,
 "nbformat_minor": 5
}
